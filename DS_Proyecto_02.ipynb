{
 "cells": [
  {
   "cell_type": "markdown",
   "metadata": {},
   "source": [
    "# **Proyecto 2: Análisis de mercado inmobiliario**\n",
    "\n",
    "## **Consigna**\n",
    "\n",
    "En este proyecto profundizarás lo desarrollado en el proyecto 01. El objetivo es aplicar las técnicas incorporadas (Transformación de Datos, Optimización de Hiperparámetros, Modelos Avanzados, etc.) para generar un modelo que tenga un mejor desempeño que el modelo generado en el proyecto anterior. Luego, interpreta ese modelo para responder la siguiente pregunta: ¿qué podemos aprender de nuestro problema estudiando el modelo que generamos?\n",
    "\n",
    "El trabajo se organiza en tres partes:\n",
    "\n",
    "### **PARTE A - Transformación de Datos**\n",
    "\n",
    "Elige cuáles de las siguientes tareas son apropiadas para su dataset. Justifica e implementa:\n",
    "\n",
    "1. Detección y eliminación de Outliers\n",
    "1. Encoding\n",
    "1. Imputación de valores faltantes\n",
    "1. Escalado de datos\n",
    "1. Generación de nuevas variables predictoras/reducción de dimensionalidad (SVD/PCA).\n",
    "\n",
    "Vuelve a entrenar el modelo implementado en la Entrega 01 - en particular, el árbol de decisión - y evalúa su desempeño a partir del dataset obtenido luego de transformar los datos. ¿Hay una mejora en su desempeño? Sea cual sea la respuesta, intenta explicar a qué se debe.\n",
    "\n",
    "### **PARTE B - Modelos Avanzados**\n",
    "\n",
    "1. Elige dos de los modelos avanzados vistos (en el caso de regresión, considera una regresión lineal con atributos polinómicos y regularización). Entrénalos y evalúalos con sus argumentos por defecto. No te olvides de hacer un train/test split y usar Validación Cruzada.\n",
    "1. Optimiza sus hiperparámetros mediante Validación Cruzada y Grid Search o Random Search.\n",
    "1. Compara el desempeño de los nuevos modelos entre sí y con el modelo de la Parte A. ¿Cuál elegirías? Justifica.\n",
    "\n",
    "### **PARTE C - Interpretación de modelos**\n",
    "\n",
    "De acuerdo a lo que el modelo permite, responde algunas o todas las siguientes preguntas:\n",
    "\n",
    "* ¿Qué variables fueron relevantes para el modelo para hacer una predicción? ¿Cuáles no? Si usaste una regresión lineal con regularización, presta atención a los parámetros (pendientes) obtenidas. Si usaste un modelo de ensamble en árboles, además de ver la importancia de cada atributo, también elige algunos árboles al azar y observa qué atributos considera importantes. ¿En qué se diferencian esos árboles? ¿Por qué? Finalmente, responde, ¿coincide con lo que esperabas a partir de tu experiencia con este dataset?\n",
    "* ¿Cómo es la distribución de errores (regresión) o qué clases se confunden entre sí (clasificación)? ¿Dónde falla? ¿A qué se debe?\n",
    "\n",
    "### **DESAFÍO OPCIONAL**\n",
    "\n",
    "Aplica una técnica de Clustering sobre el dataset. Puedes combinar con técnicas de reducción de dimensionalidad para facilitar la visualización. ¿Qué clusters encuentras? ¿A qué pueden corresponder? Te dejamos preguntas que pueden servir como disparadoras: ¿qué barrios se parecen más entre sí?¿qué tipos de propiedades se parecen más entre sí?"
   ]
  },
  {
   "cell_type": "code",
   "execution_count": 293,
   "metadata": {
    "colab": {},
    "colab_type": "code",
    "id": "fCGVacN5C4OM"
   },
   "outputs": [],
   "source": [
    "import pandas as pd\n",
    "import numpy as np\n",
    "import matplotlib.pyplot as plt\n",
    "import seaborn as sns\n",
    "\n",
    "from sklearn.preprocessing import LabelEncoder\n",
    "from sklearn.tree import DecisionTreeRegressor\n",
    "\n",
    "from dstools.eda import DataHandler\n",
    "from dstools.modeling import RegressionModeling\n",
    "\n",
    "from sklearn.cluster import KMeans"
   ]
  },
  {
   "cell_type": "markdown",
   "metadata": {},
   "source": [
    "En primer lugar se mostraran los resultados de la parte 1 del proyecto."
   ]
  },
  {
   "cell_type": "code",
   "execution_count": 294,
   "metadata": {
    "scrolled": true
   },
   "outputs": [],
   "source": [
    "properati = pd.read_csv('DS_Proyecto_02_Datos_Properati.csv')\n",
    "data_handler = DataHandler(properati)\n",
    "regression_modeling = RegressionModeling()"
   ]
  },
  {
   "cell_type": "code",
   "execution_count": 295,
   "metadata": {},
   "outputs": [
    {
     "name": "stdout",
     "output_type": "stream",
     "text": [
      "Modelo: Árbol de Decisión\n",
      "Raíz del error cuadrático medio en Train: 88274.0169560616\n",
      "Raíz del error cuadrático medio en Test: 101609.9322862421\n",
      "\n"
     ]
    },
    {
     "data": {
      "image/png": "[encoded data removed]",
      "text/plain": [
       "<Figure size 720x360 with 1 Axes>"
      ]
     },
     "metadata": {},
     "output_type": "display_data"
    }
   ],
   "source": [
    "filters = {\n",
    "    'reset_data': True,\n",
    "    'fixed_values': {\n",
    "        'property_type': ['Departamento', 'PH', 'Casa'],\n",
    "        'l2': ['Capital Federal']\n",
    "    },\n",
    "    'columns': ['lat', 'lon', 'rooms', 'bedrooms', 'bathrooms', 'surface_total', 'surface_covered', 'property_type', 'price'],\n",
    "    'max_surface_total' : 1000,\n",
    "    'min_surface_total' : 15,\n",
    "    'max_lat': 60,\n",
    "    'drop_invalid': True,\n",
    "    'drop_missing': True,\n",
    "    'max_price' : 4000000\n",
    "}\n",
    "data_handler.filter_data(**filters)\n",
    "dataset = data_handler.processed_data.copy()\n",
    "\n",
    "labelencoder = LabelEncoder()\n",
    "dataset.property_type = labelencoder.fit_transform(dataset.property_type)\n",
    "property_type_dummies = pd.get_dummies(dataset.property_type)\n",
    "property_type_dummies.columns = labelencoder.classes_\n",
    "\n",
    "dataset['Departamento'] = property_type_dummies['Departamento']\n",
    "dataset.drop(['property_type'], axis=1, inplace=True)\n",
    "\n",
    "dataset = dataset[dataset.bedrooms != 0]\n",
    "dataset['bath_bed_ratio'] = dataset.bathrooms / dataset.bedrooms\n",
    "dataset = dataset.drop(['bedrooms', 'bathrooms'], axis=1)\n",
    "\n",
    "dataset = dataset.drop(['surface_total', 'rooms'], axis=1)\n",
    "\n",
    "X = dataset.drop(['price'], axis=1)\n",
    "y = dataset.price\n",
    "\n",
    "models_info = { 'Árbol de Decisión': DecisionTreeRegressor(random_state=42, max_depth=9) }\n",
    "\n",
    "regression_modeling.study_dataset(X, y, models_info, metric='rmse', plot_residuals=False, kde=False, plot_error_metrics=True)\n",
    "\n",
    "regression_modeling.set_benchmark('Árbol de Decisión', print_errors=False)"
   ]
  },
  {
   "cell_type": "markdown",
   "metadata": {},
   "source": [
    "# Suposiciones iniciales"
   ]
  },
  {
   "cell_type": "markdown",
   "metadata": {},
   "source": [
    "Se seguira el mismo punto de partida que en la parte 1:\n",
    "\n",
    "* **Region a analizar:** Capital Federal\n",
    "* **Tipo de propiedades:** Departamento, PH y Casa"
   ]
  },
  {
   "cell_type": "markdown",
   "metadata": {},
   "source": [
    "## Parte A - Transformacion de datos"
   ]
  },
  {
   "cell_type": "markdown",
   "metadata": {},
   "source": [
    "Establecemos la semilla a usar en los pasos que dependan de un proceso aleatorio."
   ]
  },
  {
   "cell_type": "code",
   "execution_count": 296,
   "metadata": {},
   "outputs": [],
   "source": [
    "random_state = 2020-10-14"
   ]
  },
  {
   "cell_type": "code",
   "execution_count": 297,
   "metadata": {},
   "outputs": [
    {
     "data": {
      "text/plain": [
       "1"
      ]
     },
     "execution_count": 297,
     "metadata": {},
     "output_type": "execute_result"
    }
   ],
   "source": [
    "filters = {\n",
    "    'reset_data': True\n",
    "}\n",
    "data_handler.filter_data(**filters)\n",
    "dataset = data_handler.processed_data.copy()\n",
    "dataset.operation_type.nunique()"
   ]
  },
  {
   "cell_type": "code",
   "execution_count": 298,
   "metadata": {},
   "outputs": [
    {
     "data": {
      "text/plain": [
       "Index(['start_date', 'end_date', 'created_on', 'lat', 'lon', 'l1', 'l2', 'l3',\n",
       "       'rooms', 'bedrooms', 'bathrooms', 'surface_total', 'surface_covered',\n",
       "       'price', 'currency', 'title', 'description', 'property_type',\n",
       "       'operation_type'],\n",
       "      dtype='object')"
      ]
     },
     "execution_count": 298,
     "metadata": {},
     "output_type": "execute_result"
    }
   ],
   "source": [
    "dataset.columns"
   ]
  },
  {
   "cell_type": "markdown",
   "metadata": {},
   "source": [
    "Reiniciamos el dataset, filtramos por tipo de propiedad y descartamos los siguientes campos:\n",
    "\n",
    "* **Fechas:** no se mediran influencias temporales en los precios de los inmuebles.\n",
    "* **l1, currency y operation_type:** son campos con varianza cero a lo largo del dataset.\n",
    "* **l2:** l2 y l3 pueden ser descartadas puesto que los campos de latitud y longitud contienen dicha informacion, sin embargo, l3 no se descarta en esta instancia para poder hacer un breve analisis de datos para lo que puede ser de utilidad.\n",
    "* **title y description:** no se hara uso de tecnicas de NLP para obtener insights de los campos de texto."
   ]
  },
  {
   "cell_type": "code",
   "execution_count": 299,
   "metadata": {},
   "outputs": [
    {
     "data": {
      "text/html": [
       "<div>\n",
       "<style scoped>\n",
       "    .dataframe tbody tr th:only-of-type {\n",
       "        vertical-align: middle;\n",
       "    }\n",
       "\n",
       "    .dataframe tbody tr th {\n",
       "        vertical-align: top;\n",
       "    }\n",
       "\n",
       "    .dataframe thead th {\n",
       "        text-align: right;\n",
       "    }\n",
       "</style>\n",
       "<table border=\"1\" class=\"dataframe\">\n",
       "  <thead>\n",
       "    <tr style=\"text-align: right;\">\n",
       "      <th></th>\n",
       "      <th>lat</th>\n",
       "      <th>lon</th>\n",
       "      <th>l3</th>\n",
       "      <th>rooms</th>\n",
       "      <th>bedrooms</th>\n",
       "      <th>bathrooms</th>\n",
       "      <th>surface_total</th>\n",
       "      <th>surface_covered</th>\n",
       "      <th>property_type</th>\n",
       "      <th>price</th>\n",
       "    </tr>\n",
       "  </thead>\n",
       "  <tbody>\n",
       "    <tr>\n",
       "      <th>0</th>\n",
       "      <td>-34.605880</td>\n",
       "      <td>-58.384949</td>\n",
       "      <td>San Cristobal</td>\n",
       "      <td>7.0</td>\n",
       "      <td>7.0</td>\n",
       "      <td>2.0</td>\n",
       "      <td>140.0</td>\n",
       "      <td>140.0</td>\n",
       "      <td>Departamento</td>\n",
       "      <td>153000.0</td>\n",
       "    </tr>\n",
       "    <tr>\n",
       "      <th>1</th>\n",
       "      <td>-34.624056</td>\n",
       "      <td>-58.412110</td>\n",
       "      <td>Boedo</td>\n",
       "      <td>2.0</td>\n",
       "      <td>1.0</td>\n",
       "      <td>2.0</td>\n",
       "      <td>70.0</td>\n",
       "      <td>58.0</td>\n",
       "      <td>PH</td>\n",
       "      <td>159000.0</td>\n",
       "    </tr>\n",
       "    <tr>\n",
       "      <th>2</th>\n",
       "      <td>-34.593569</td>\n",
       "      <td>-58.427474</td>\n",
       "      <td>Palermo</td>\n",
       "      <td>2.0</td>\n",
       "      <td>1.0</td>\n",
       "      <td>1.0</td>\n",
       "      <td>45.0</td>\n",
       "      <td>45.0</td>\n",
       "      <td>PH</td>\n",
       "      <td>125000.0</td>\n",
       "    </tr>\n",
       "    <tr>\n",
       "      <th>3</th>\n",
       "      <td>-34.581294</td>\n",
       "      <td>-58.436754</td>\n",
       "      <td>Palermo</td>\n",
       "      <td>2.0</td>\n",
       "      <td>1.0</td>\n",
       "      <td>1.0</td>\n",
       "      <td>85.0</td>\n",
       "      <td>50.0</td>\n",
       "      <td>PH</td>\n",
       "      <td>295000.0</td>\n",
       "    </tr>\n",
       "    <tr>\n",
       "      <th>5</th>\n",
       "      <td>-34.593779</td>\n",
       "      <td>-58.441239</td>\n",
       "      <td>Villa Crespo</td>\n",
       "      <td>2.0</td>\n",
       "      <td>1.0</td>\n",
       "      <td>1.0</td>\n",
       "      <td>56.0</td>\n",
       "      <td>56.0</td>\n",
       "      <td>PH</td>\n",
       "      <td>150000.0</td>\n",
       "    </tr>\n",
       "  </tbody>\n",
       "</table>\n",
       "</div>"
      ],
      "text/plain": [
       "         lat        lon             l3  rooms  bedrooms  bathrooms  \\\n",
       "0 -34.605880 -58.384949  San Cristobal    7.0       7.0        2.0   \n",
       "1 -34.624056 -58.412110          Boedo    2.0       1.0        2.0   \n",
       "2 -34.593569 -58.427474        Palermo    2.0       1.0        1.0   \n",
       "3 -34.581294 -58.436754        Palermo    2.0       1.0        1.0   \n",
       "5 -34.593779 -58.441239   Villa Crespo    2.0       1.0        1.0   \n",
       "\n",
       "   surface_total  surface_covered property_type     price  \n",
       "0          140.0            140.0  Departamento  153000.0  \n",
       "1           70.0             58.0            PH  159000.0  \n",
       "2           45.0             45.0            PH  125000.0  \n",
       "3           85.0             50.0            PH  295000.0  \n",
       "5           56.0             56.0            PH  150000.0  "
      ]
     },
     "execution_count": 299,
     "metadata": {},
     "output_type": "execute_result"
    }
   ],
   "source": [
    "filters = {\n",
    "    'reset_data': True,\n",
    "    'fixed_values': {\n",
    "        'property_type': ['Departamento', 'PH', 'Casa'],\n",
    "        'l2': ['Capital Federal']\n",
    "    },\n",
    "    'columns': ['lat', 'lon', 'l3', 'rooms', 'bedrooms', 'bathrooms', 'surface_total', 'surface_covered', 'property_type', 'price'],\n",
    "}\n",
    "data_handler.filter_data(**filters)\n",
    "dataset = data_handler.processed_data.copy()\n",
    "dataset.head()"
   ]
  },
  {
   "cell_type": "markdown",
   "metadata": {},
   "source": [
    "### Validacion de consistencia de valores"
   ]
  },
  {
   "cell_type": "markdown",
   "metadata": {},
   "source": [
    "Luego de filtrado el dataset se validara la consistencia de los datos.\n",
    "\n",
    "Se eliminan los registros donde el numero de habitaciones es mayor que el de ambientes:"
   ]
  },
  {
   "cell_type": "code",
   "execution_count": 300,
   "metadata": {},
   "outputs": [
    {
     "name": "stdout",
     "output_type": "stream",
     "text": [
      "Dimension antes: (91485, 10)\n",
      "Registros invalidos: 63\n",
      "Dimension despues: (91422, 10)\n"
     ]
    }
   ],
   "source": [
    "print(f\"Dimension antes: {dataset.shape}\")\n",
    "print(f\"Registros invalidos: {dataset.query('rooms < bedrooms').shape[0]}\")\n",
    "dataset.query('rooms >= bedrooms', inplace=True)\n",
    "print(f\"Dimension despues: {dataset.shape}\")"
   ]
  },
  {
   "cell_type": "markdown",
   "metadata": {},
   "source": [
    "surface_total > surface_covered"
   ]
  },
  {
   "cell_type": "markdown",
   "metadata": {},
   "source": [
    "Ahora se eliminan los campos cuya superficie total sea menor que la cubierta:"
   ]
  },
  {
   "cell_type": "code",
   "execution_count": 301,
   "metadata": {},
   "outputs": [
    {
     "name": "stdout",
     "output_type": "stream",
     "text": [
      "Dimension antes: (91422, 10)\n",
      "Registros invalidos: 759\n",
      "Dimension despues: (81230, 10)\n"
     ]
    }
   ],
   "source": [
    "print(f\"Dimension antes: {dataset.shape}\")\n",
    "print(f\"Registros invalidos: {dataset.query('surface_total < surface_covered').shape[0]}\")\n",
    "dataset.query('surface_total >= surface_covered', inplace=True)\n",
    "print(f\"Dimension despues: {dataset.shape}\")"
   ]
  },
  {
   "cell_type": "markdown",
   "metadata": {},
   "source": [
    "### Analisis de valores faltantes\n",
    "\n",
    "Verificamos la cantidad de valores faltantes en el dataset:"
   ]
  },
  {
   "cell_type": "code",
   "execution_count": 302,
   "metadata": {},
   "outputs": [
    {
     "data": {
      "text/html": [
       "<div>\n",
       "<style scoped>\n",
       "    .dataframe tbody tr th:only-of-type {\n",
       "        vertical-align: middle;\n",
       "    }\n",
       "\n",
       "    .dataframe tbody tr th {\n",
       "        vertical-align: top;\n",
       "    }\n",
       "\n",
       "    .dataframe thead th {\n",
       "        text-align: right;\n",
       "    }\n",
       "</style>\n",
       "<table border=\"1\" class=\"dataframe\">\n",
       "  <thead>\n",
       "    <tr style=\"text-align: right;\">\n",
       "      <th></th>\n",
       "      <th>count_</th>\n",
       "      <th>percentage</th>\n",
       "    </tr>\n",
       "  </thead>\n",
       "  <tbody>\n",
       "    <tr>\n",
       "      <th>lat</th>\n",
       "      <td>4241</td>\n",
       "      <td>5.22</td>\n",
       "    </tr>\n",
       "    <tr>\n",
       "      <th>lon</th>\n",
       "      <td>4241</td>\n",
       "      <td>5.22</td>\n",
       "    </tr>\n",
       "    <tr>\n",
       "      <th>l3</th>\n",
       "      <td>0</td>\n",
       "      <td>0.00</td>\n",
       "    </tr>\n",
       "    <tr>\n",
       "      <th>rooms</th>\n",
       "      <td>0</td>\n",
       "      <td>0.00</td>\n",
       "    </tr>\n",
       "    <tr>\n",
       "      <th>bedrooms</th>\n",
       "      <td>0</td>\n",
       "      <td>0.00</td>\n",
       "    </tr>\n",
       "    <tr>\n",
       "      <th>bathrooms</th>\n",
       "      <td>833</td>\n",
       "      <td>1.03</td>\n",
       "    </tr>\n",
       "    <tr>\n",
       "      <th>surface_total</th>\n",
       "      <td>0</td>\n",
       "      <td>0.00</td>\n",
       "    </tr>\n",
       "    <tr>\n",
       "      <th>surface_covered</th>\n",
       "      <td>0</td>\n",
       "      <td>0.00</td>\n",
       "    </tr>\n",
       "    <tr>\n",
       "      <th>property_type</th>\n",
       "      <td>0</td>\n",
       "      <td>0.00</td>\n",
       "    </tr>\n",
       "    <tr>\n",
       "      <th>price</th>\n",
       "      <td>0</td>\n",
       "      <td>0.00</td>\n",
       "    </tr>\n",
       "  </tbody>\n",
       "</table>\n",
       "</div>"
      ],
      "text/plain": [
       "                 count_  percentage\n",
       "lat                4241        5.22\n",
       "lon                4241        5.22\n",
       "l3                    0        0.00\n",
       "rooms                 0        0.00\n",
       "bedrooms              0        0.00\n",
       "bathrooms           833        1.03\n",
       "surface_total         0        0.00\n",
       "surface_covered       0        0.00\n",
       "property_type         0        0.00\n",
       "price                 0        0.00"
      ]
     },
     "execution_count": 302,
     "metadata": {},
     "output_type": "execute_result"
    }
   ],
   "source": [
    "missing_values_count = pd.DataFrame(dataset.isna().sum(), columns=['count_'])\n",
    "missing_values_count['percentage'] = np.round(100 * missing_values_count.count_ / dataset.shape[0],2)\n",
    "missing_values_count"
   ]
  },
  {
   "cell_type": "markdown",
   "metadata": {},
   "source": [
    "Para este estado del proyecto, no realizaremos imputacion de valores por lo que procedemos a eliminar los registros con valores faltantes."
   ]
  },
  {
   "cell_type": "code",
   "execution_count": 303,
   "metadata": {},
   "outputs": [
    {
     "data": {
      "text/plain": [
       "(76163, 10)"
      ]
     },
     "execution_count": 303,
     "metadata": {},
     "output_type": "execute_result"
    }
   ],
   "source": [
    "dataset.dropna(inplace=True)\n",
    "dataset.shape"
   ]
  },
  {
   "cell_type": "markdown",
   "metadata": {},
   "source": [
    "### Analisis de correlacion\n",
    "\n",
    "Generaremos una matriz de correlacion para validar variables que puedan ser linealmente dependientes."
   ]
  },
  {
   "cell_type": "code",
   "execution_count": 304,
   "metadata": {},
   "outputs": [
    {
     "data": {
      "image/png": "[encoded data removed]",
      "text/plain": [
       "<Figure size 936x720 with 2 Axes>"
      ]
     },
     "metadata": {},
     "output_type": "display_data"
    }
   ],
   "source": [
    "plt.figure(figsize=(13,10))\n",
    "sns.heatmap(dataset.corr(), annot=True)\n",
    "plt.show()"
   ]
  },
  {
   "cell_type": "markdown",
   "metadata": {},
   "source": [
    "Podemos ver que los campos de habitaciones, ambientes, banos y ambos tipos de superficies estan altamente correlacionadas. Para algoritmos como Lasso (que se usara posteriormente), esto puede ser un problema. Esto lo resolveremos mediante el uso de la tecnica de PCA."
   ]
  },
  {
   "cell_type": "markdown",
   "metadata": {},
   "source": [
    "### Deteccion y eliminacion de valores atipicos\n",
    "\n",
    "Dos metodos en particular se usaran en este analisis: rango intercuartil y 3 sigmas.\n",
    "Primero haremos un analisis de las cantidades de registros que resultarian clasificadas como outliers usando ambos criterios."
   ]
  },
  {
   "cell_type": "code",
   "execution_count": 305,
   "metadata": {},
   "outputs": [
    {
     "name": "stdout",
     "output_type": "stream",
     "text": [
      "                 % IQR % sigmas\n",
      "lat               8.02     0.47\n",
      "lon               5.07        0\n",
      "rooms             1.53     1.53\n",
      "bedrooms          0.66     0.66\n",
      "bathrooms         3.28      0.9\n",
      "surface_total    10.63     0.15\n",
      "surface_covered  10.59      0.1\n",
      "price            10.75     1.75\n"
     ]
    }
   ],
   "source": [
    "import matplotlib.pyplot as plt\n",
    "import seaborn as sns; sns.set()\n",
    "\n",
    "def detect_outliers(data, criteria='3sigma'):\n",
    "    if criteria=='3sigma':\n",
    "        data_mean = data.describe().loc['mean']\n",
    "        data_std = data.describe().loc['std']\n",
    "        criteria_max = data_mean + 3 * data_std\n",
    "        criteria_min = data_mean - 3 * data_std\n",
    "        return (data < criteria_min) | (data > criteria_max)\n",
    "    if criteria=='iqr':\n",
    "        q1 = np.quantile(data, 0.25)\n",
    "        q3 = np.quantile(data, 0.75)\n",
    "        iqr = q3 - q1\n",
    "        return (data < q1 - iqr) | (data > q3 + iqr)\n",
    "\n",
    "dataset_means = dataset.describe().loc['mean']\n",
    "numeric_columns = dataset_means.index.values\n",
    "outliers_in_dataset = pd.DataFrame(columns=['% IQR', '% sigmas'], index=numeric_columns)\n",
    "\n",
    "for column in numeric_columns:\n",
    "    outliers_3sigma = detect_outliers(dataset[column], criteria='3sigma')\n",
    "    outliers_iqr = detect_outliers(dataset[column], criteria='iqr')\n",
    "    \n",
    "    iqr_number = np.round(100*outliers_iqr.sum()/dataset.shape[0], 2)\n",
    "    sigma_number = np.round(100*outliers_3sigma.sum()/dataset.shape[0], 2)\n",
    "    outliers_in_dataset.loc[column] = [iqr_number, sigma_number]\n",
    "\n",
    "print(outliers_in_dataset)"
   ]
  },
  {
   "cell_type": "markdown",
   "metadata": {},
   "source": [
    "Estudiemos el caso de la superficie total para encontrar el motivo de la diferencia."
   ]
  },
  {
   "cell_type": "code",
   "execution_count": 306,
   "metadata": {},
   "outputs": [],
   "source": [
    "def compare_outlier_detection_for(column_name):\n",
    "    print(f'======== {column_name} ========')\n",
    "    outliers_summary = pd.DataFrame()\n",
    "\n",
    "    outliers_3sigma_surface_total = detect_outliers(dataset[column_name], criteria='3sigma')\n",
    "    outliers_summary['sigma'] = dataset[~outliers_3sigma_surface_total][column_name].describe()\n",
    "\n",
    "    outliers_iqr_surface_total = detect_outliers(dataset[column_name], criteria='iqr')\n",
    "    outliers_summary['iqr'] = dataset[~outliers_iqr_surface_total][column_name].describe()\n",
    "\n",
    "    print(outliers_summary.loc[['max', 'min'], :], \"\\n\")"
   ]
  },
  {
   "cell_type": "code",
   "execution_count": 307,
   "metadata": {},
   "outputs": [
    {
     "name": "stdout",
     "output_type": "stream",
     "text": [
      "======== lat ========\n",
      "         sigma        iqr\n",
      "max -34.535909 -34.556087\n",
      "min -34.668021 -34.640103 \n",
      "\n",
      "======== lon ========\n",
      "         sigma        iqr\n",
      "max -58.353930 -58.362251\n",
      "min -58.530468 -58.504268 \n",
      "\n",
      "======== rooms ========\n",
      "     sigma  iqr\n",
      "max    6.0  6.0\n",
      "min    1.0  1.0 \n",
      "\n",
      "======== bedrooms ========\n",
      "     sigma  iqr\n",
      "max    5.0  5.0\n",
      "min    0.0  0.0 \n",
      "\n",
      "======== bathrooms ========\n",
      "     sigma  iqr\n",
      "max    4.0  3.0\n",
      "min    1.0  1.0 \n",
      "\n",
      "======== surface_total ========\n",
      "      sigma    iqr\n",
      "max  3070.0  171.0\n",
      "min    13.0   13.0 \n",
      "\n",
      "======== surface_covered ========\n",
      "      sigma    iqr\n",
      "max  1400.0  146.0\n",
      "min     1.0    1.0 \n",
      "\n",
      "======== price ========\n",
      "         sigma       iqr\n",
      "max  1230000.0  431000.0\n",
      "min     6000.0    6000.0 \n",
      "\n"
     ]
    }
   ],
   "source": [
    "for column in numeric_columns:\n",
    "    compare_outlier_detection_for(column)"
   ]
  },
  {
   "cell_type": "markdown",
   "metadata": {},
   "source": [
    "Podemos notar lo siguiente:\n",
    "\n",
    "* Los campos con valores no consistentes con la realidad son: banos, superficie total y superficie cubierta.\n",
    "\n",
    "* El criterio IQR muestra valores maximos que estan por debajo de lo que se ve en la realidad, por ejemplo, hay facilmente casas que superan los 170 m2. Deducimos que este criterio es muy agresivo en cuanto a la eliminacion de registros.\n",
    "\n",
    "* El criterio de los 3 sigmas no elimina tantos registros (~0.2%), sin embargo, vemos que existen valores limites alejados de la realidad:\n",
    "    \n",
    "    * Existen registros con ningun bano. Por el tipo de inmuebles considerados en el analisis, deben tener al menos uno. Por ende se aplicara un filtrado `bathrooms > 0`.\n",
    "    * Para las superficies totales y cubiertas:\n",
    "\n",
    "        * El valor de maximo de 3.070m2 puede ser muy alto. Una busqueda rapida en [Argenprop](https://www.argenprop.com/casa-venta-localidad-capital-federal-desde-1000-m2) se puede notar que para inmuebles de mas de 1.000m2, se tienen mas de 6 habitaciones y precios cercanos a los 2.000.000 USD. Esto contradice los datos con los que contamos. Se aplicara un filtrado `surface_total <= 1000`.\n",
    "        * El valor minimo de superficie de un [microdepartamento](https://www.infobae.com/tendencias/2018/10/09/micro-departamentos-adios-al-bidet-y-a-la-banera-en-las-viviendas-minimas-que-llegan-a-la-ciudad/) es de 18m2 considerandose un valor minimo razonable. Otro filtro a agregar seria `surface_covered >= 18`.\n",
    "        * Para los microdepartamentos mencionados en el punto anterior, tambien se puede apreciar que el precio [esta a partir de los 39.000USD](https://www.cronista.com/negocios/Microdepartamentos-el-sueno-de-la-casa-propia-desde-us-50.000-20170325-0002.html) (tomando el precio de referencia de Liniers). Es necesaria la condicion `price >= 39000`.\n",
    "\n",
    "El criterio escogido para usar sera el de las 3 sigmas. Posteriormente, se hara el filtrado mencionado en puntos anteriores."
   ]
  },
  {
   "cell_type": "code",
   "execution_count": 308,
   "metadata": {},
   "outputs": [
    {
     "name": "stdout",
     "output_type": "stream",
     "text": [
      "Shape before processing (76163, 10)\n",
      "Shape after processing (69683, 10)\n"
     ]
    }
   ],
   "source": [
    "print(f'Shape before processing {dataset.shape}')\n",
    "\n",
    "# Eliminating outliers\n",
    "for column in numeric_columns:\n",
    "    columns_to_keep = ~detect_outliers(dataset[column], criteria='3sigma')\n",
    "    dataset = dataset[columns_to_keep].copy()\n",
    "    \n",
    "print(f'Shape after processing {dataset.shape}')"
   ]
  },
  {
   "cell_type": "code",
   "execution_count": 309,
   "metadata": {},
   "outputs": [
    {
     "name": "stdout",
     "output_type": "stream",
     "text": [
      "Dimension antes: (69683, 10)\n",
      "Registros invalidos: 138\n",
      "Dimension despues: (69545, 10)\n"
     ]
    }
   ],
   "source": [
    "print(f\"Dimension antes: {dataset.shape}\")\n",
    "print(f\"Registros invalidos: {dataset.query('surface_covered < 18 | surface_total > 1000 | bathrooms == 0 | price < 39000').shape[0]}\")\n",
    "dataset.query('surface_covered >= 18 & surface_total <= 1000 & bathrooms > 0 & price >= 39000', inplace=True)\n",
    "print(f\"Dimension despues: {dataset.shape}\")"
   ]
  },
  {
   "cell_type": "code",
   "execution_count": 310,
   "metadata": {},
   "outputs": [
    {
     "data": {
      "text/html": [
       "<div>\n",
       "<style scoped>\n",
       "    .dataframe tbody tr th:only-of-type {\n",
       "        vertical-align: middle;\n",
       "    }\n",
       "\n",
       "    .dataframe tbody tr th {\n",
       "        vertical-align: top;\n",
       "    }\n",
       "\n",
       "    .dataframe thead th {\n",
       "        text-align: right;\n",
       "    }\n",
       "</style>\n",
       "<table border=\"1\" class=\"dataframe\">\n",
       "  <thead>\n",
       "    <tr style=\"text-align: right;\">\n",
       "      <th></th>\n",
       "      <th>lat</th>\n",
       "      <th>lon</th>\n",
       "      <th>l3</th>\n",
       "      <th>rooms</th>\n",
       "      <th>bedrooms</th>\n",
       "      <th>bathrooms</th>\n",
       "      <th>surface_total</th>\n",
       "      <th>surface_covered</th>\n",
       "      <th>property_type</th>\n",
       "      <th>price</th>\n",
       "    </tr>\n",
       "  </thead>\n",
       "  <tbody>\n",
       "    <tr>\n",
       "      <th>1</th>\n",
       "      <td>-34.624056</td>\n",
       "      <td>-58.412110</td>\n",
       "      <td>Boedo</td>\n",
       "      <td>2.0</td>\n",
       "      <td>1.0</td>\n",
       "      <td>2.0</td>\n",
       "      <td>70.0</td>\n",
       "      <td>58.0</td>\n",
       "      <td>PH</td>\n",
       "      <td>159000.0</td>\n",
       "    </tr>\n",
       "    <tr>\n",
       "      <th>2</th>\n",
       "      <td>-34.593569</td>\n",
       "      <td>-58.427474</td>\n",
       "      <td>Palermo</td>\n",
       "      <td>2.0</td>\n",
       "      <td>1.0</td>\n",
       "      <td>1.0</td>\n",
       "      <td>45.0</td>\n",
       "      <td>45.0</td>\n",
       "      <td>PH</td>\n",
       "      <td>125000.0</td>\n",
       "    </tr>\n",
       "    <tr>\n",
       "      <th>3</th>\n",
       "      <td>-34.581294</td>\n",
       "      <td>-58.436754</td>\n",
       "      <td>Palermo</td>\n",
       "      <td>2.0</td>\n",
       "      <td>1.0</td>\n",
       "      <td>1.0</td>\n",
       "      <td>85.0</td>\n",
       "      <td>50.0</td>\n",
       "      <td>PH</td>\n",
       "      <td>295000.0</td>\n",
       "    </tr>\n",
       "    <tr>\n",
       "      <th>5</th>\n",
       "      <td>-34.593779</td>\n",
       "      <td>-58.441239</td>\n",
       "      <td>Villa Crespo</td>\n",
       "      <td>2.0</td>\n",
       "      <td>1.0</td>\n",
       "      <td>1.0</td>\n",
       "      <td>56.0</td>\n",
       "      <td>56.0</td>\n",
       "      <td>PH</td>\n",
       "      <td>150000.0</td>\n",
       "    </tr>\n",
       "    <tr>\n",
       "      <th>6</th>\n",
       "      <td>-34.600988</td>\n",
       "      <td>-58.433061</td>\n",
       "      <td>Villa Crespo</td>\n",
       "      <td>2.0</td>\n",
       "      <td>1.0</td>\n",
       "      <td>1.0</td>\n",
       "      <td>70.0</td>\n",
       "      <td>70.0</td>\n",
       "      <td>PH</td>\n",
       "      <td>159500.0</td>\n",
       "    </tr>\n",
       "  </tbody>\n",
       "</table>\n",
       "</div>"
      ],
      "text/plain": [
       "         lat        lon            l3  rooms  bedrooms  bathrooms  \\\n",
       "1 -34.624056 -58.412110         Boedo    2.0       1.0        2.0   \n",
       "2 -34.593569 -58.427474       Palermo    2.0       1.0        1.0   \n",
       "3 -34.581294 -58.436754       Palermo    2.0       1.0        1.0   \n",
       "5 -34.593779 -58.441239  Villa Crespo    2.0       1.0        1.0   \n",
       "6 -34.600988 -58.433061  Villa Crespo    2.0       1.0        1.0   \n",
       "\n",
       "   surface_total  surface_covered property_type     price  \n",
       "1           70.0             58.0            PH  159000.0  \n",
       "2           45.0             45.0            PH  125000.0  \n",
       "3           85.0             50.0            PH  295000.0  \n",
       "5           56.0             56.0            PH  150000.0  \n",
       "6           70.0             70.0            PH  159500.0  "
      ]
     },
     "execution_count": 310,
     "metadata": {},
     "output_type": "execute_result"
    }
   ],
   "source": [
    "dataset.head()"
   ]
  },
  {
   "cell_type": "markdown",
   "metadata": {},
   "source": [
    "### Encoding\n",
    "\n",
    "Luego de la limpieza de los datos, empezamos con el proceso de codificacion del tipo de propiedad."
   ]
  },
  {
   "cell_type": "code",
   "execution_count": 311,
   "metadata": {},
   "outputs": [
    {
     "data": {
      "text/html": [
       "<div>\n",
       "<style scoped>\n",
       "    .dataframe tbody tr th:only-of-type {\n",
       "        vertical-align: middle;\n",
       "    }\n",
       "\n",
       "    .dataframe tbody tr th {\n",
       "        vertical-align: top;\n",
       "    }\n",
       "\n",
       "    .dataframe thead th {\n",
       "        text-align: right;\n",
       "    }\n",
       "</style>\n",
       "<table border=\"1\" class=\"dataframe\">\n",
       "  <thead>\n",
       "    <tr style=\"text-align: right;\">\n",
       "      <th></th>\n",
       "      <th>lat</th>\n",
       "      <th>lon</th>\n",
       "      <th>l3</th>\n",
       "      <th>rooms</th>\n",
       "      <th>bedrooms</th>\n",
       "      <th>bathrooms</th>\n",
       "      <th>surface_total</th>\n",
       "      <th>surface_covered</th>\n",
       "      <th>property_type</th>\n",
       "      <th>price</th>\n",
       "      <th>property_type_encoded</th>\n",
       "    </tr>\n",
       "  </thead>\n",
       "  <tbody>\n",
       "    <tr>\n",
       "      <th>1</th>\n",
       "      <td>-34.624056</td>\n",
       "      <td>-58.412110</td>\n",
       "      <td>Boedo</td>\n",
       "      <td>2.0</td>\n",
       "      <td>1.0</td>\n",
       "      <td>2.0</td>\n",
       "      <td>70.0</td>\n",
       "      <td>58.0</td>\n",
       "      <td>PH</td>\n",
       "      <td>159000.0</td>\n",
       "      <td>2</td>\n",
       "    </tr>\n",
       "    <tr>\n",
       "      <th>2</th>\n",
       "      <td>-34.593569</td>\n",
       "      <td>-58.427474</td>\n",
       "      <td>Palermo</td>\n",
       "      <td>2.0</td>\n",
       "      <td>1.0</td>\n",
       "      <td>1.0</td>\n",
       "      <td>45.0</td>\n",
       "      <td>45.0</td>\n",
       "      <td>PH</td>\n",
       "      <td>125000.0</td>\n",
       "      <td>2</td>\n",
       "    </tr>\n",
       "    <tr>\n",
       "      <th>3</th>\n",
       "      <td>-34.581294</td>\n",
       "      <td>-58.436754</td>\n",
       "      <td>Palermo</td>\n",
       "      <td>2.0</td>\n",
       "      <td>1.0</td>\n",
       "      <td>1.0</td>\n",
       "      <td>85.0</td>\n",
       "      <td>50.0</td>\n",
       "      <td>PH</td>\n",
       "      <td>295000.0</td>\n",
       "      <td>2</td>\n",
       "    </tr>\n",
       "    <tr>\n",
       "      <th>5</th>\n",
       "      <td>-34.593779</td>\n",
       "      <td>-58.441239</td>\n",
       "      <td>Villa Crespo</td>\n",
       "      <td>2.0</td>\n",
       "      <td>1.0</td>\n",
       "      <td>1.0</td>\n",
       "      <td>56.0</td>\n",
       "      <td>56.0</td>\n",
       "      <td>PH</td>\n",
       "      <td>150000.0</td>\n",
       "      <td>2</td>\n",
       "    </tr>\n",
       "    <tr>\n",
       "      <th>6</th>\n",
       "      <td>-34.600988</td>\n",
       "      <td>-58.433061</td>\n",
       "      <td>Villa Crespo</td>\n",
       "      <td>2.0</td>\n",
       "      <td>1.0</td>\n",
       "      <td>1.0</td>\n",
       "      <td>70.0</td>\n",
       "      <td>70.0</td>\n",
       "      <td>PH</td>\n",
       "      <td>159500.0</td>\n",
       "      <td>2</td>\n",
       "    </tr>\n",
       "  </tbody>\n",
       "</table>\n",
       "</div>"
      ],
      "text/plain": [
       "         lat        lon            l3  rooms  bedrooms  bathrooms  \\\n",
       "1 -34.624056 -58.412110         Boedo    2.0       1.0        2.0   \n",
       "2 -34.593569 -58.427474       Palermo    2.0       1.0        1.0   \n",
       "3 -34.581294 -58.436754       Palermo    2.0       1.0        1.0   \n",
       "5 -34.593779 -58.441239  Villa Crespo    2.0       1.0        1.0   \n",
       "6 -34.600988 -58.433061  Villa Crespo    2.0       1.0        1.0   \n",
       "\n",
       "   surface_total  surface_covered property_type     price  \\\n",
       "1           70.0             58.0            PH  159000.0   \n",
       "2           45.0             45.0            PH  125000.0   \n",
       "3           85.0             50.0            PH  295000.0   \n",
       "5           56.0             56.0            PH  150000.0   \n",
       "6           70.0             70.0            PH  159500.0   \n",
       "\n",
       "   property_type_encoded  \n",
       "1                      2  \n",
       "2                      2  \n",
       "3                      2  \n",
       "5                      2  \n",
       "6                      2  "
      ]
     },
     "execution_count": 311,
     "metadata": {},
     "output_type": "execute_result"
    }
   ],
   "source": [
    "from sklearn.preprocessing import LabelEncoder\n",
    "\n",
    "property_type_label_encoder = LabelEncoder()\n",
    "dataset['property_type_encoded'] = property_type_label_encoder.fit_transform(dataset.property_type)\n",
    "\n",
    "dataset.head()"
   ]
  },
  {
   "cell_type": "code",
   "execution_count": 312,
   "metadata": {},
   "outputs": [
    {
     "data": {
      "text/html": [
       "<div>\n",
       "<style scoped>\n",
       "    .dataframe tbody tr th:only-of-type {\n",
       "        vertical-align: middle;\n",
       "    }\n",
       "\n",
       "    .dataframe tbody tr th {\n",
       "        vertical-align: top;\n",
       "    }\n",
       "\n",
       "    .dataframe thead th {\n",
       "        text-align: right;\n",
       "    }\n",
       "</style>\n",
       "<table border=\"1\" class=\"dataframe\">\n",
       "  <thead>\n",
       "    <tr style=\"text-align: right;\">\n",
       "      <th></th>\n",
       "      <th>lat</th>\n",
       "      <th>lon</th>\n",
       "      <th>l3</th>\n",
       "      <th>rooms</th>\n",
       "      <th>bedrooms</th>\n",
       "      <th>bathrooms</th>\n",
       "      <th>surface_total</th>\n",
       "      <th>surface_covered</th>\n",
       "      <th>property_type</th>\n",
       "      <th>price</th>\n",
       "      <th>Casa</th>\n",
       "      <th>Departamento</th>\n",
       "      <th>PH</th>\n",
       "    </tr>\n",
       "  </thead>\n",
       "  <tbody>\n",
       "    <tr>\n",
       "      <th>0</th>\n",
       "      <td>-34.624056</td>\n",
       "      <td>-58.412110</td>\n",
       "      <td>Boedo</td>\n",
       "      <td>2.0</td>\n",
       "      <td>1.0</td>\n",
       "      <td>2.0</td>\n",
       "      <td>70.0</td>\n",
       "      <td>58.0</td>\n",
       "      <td>PH</td>\n",
       "      <td>159000.0</td>\n",
       "      <td>0.0</td>\n",
       "      <td>0.0</td>\n",
       "      <td>1.0</td>\n",
       "    </tr>\n",
       "    <tr>\n",
       "      <th>1</th>\n",
       "      <td>-34.593569</td>\n",
       "      <td>-58.427474</td>\n",
       "      <td>Palermo</td>\n",
       "      <td>2.0</td>\n",
       "      <td>1.0</td>\n",
       "      <td>1.0</td>\n",
       "      <td>45.0</td>\n",
       "      <td>45.0</td>\n",
       "      <td>PH</td>\n",
       "      <td>125000.0</td>\n",
       "      <td>0.0</td>\n",
       "      <td>0.0</td>\n",
       "      <td>1.0</td>\n",
       "    </tr>\n",
       "    <tr>\n",
       "      <th>2</th>\n",
       "      <td>-34.581294</td>\n",
       "      <td>-58.436754</td>\n",
       "      <td>Palermo</td>\n",
       "      <td>2.0</td>\n",
       "      <td>1.0</td>\n",
       "      <td>1.0</td>\n",
       "      <td>85.0</td>\n",
       "      <td>50.0</td>\n",
       "      <td>PH</td>\n",
       "      <td>295000.0</td>\n",
       "      <td>0.0</td>\n",
       "      <td>0.0</td>\n",
       "      <td>1.0</td>\n",
       "    </tr>\n",
       "    <tr>\n",
       "      <th>3</th>\n",
       "      <td>-34.593779</td>\n",
       "      <td>-58.441239</td>\n",
       "      <td>Villa Crespo</td>\n",
       "      <td>2.0</td>\n",
       "      <td>1.0</td>\n",
       "      <td>1.0</td>\n",
       "      <td>56.0</td>\n",
       "      <td>56.0</td>\n",
       "      <td>PH</td>\n",
       "      <td>150000.0</td>\n",
       "      <td>0.0</td>\n",
       "      <td>0.0</td>\n",
       "      <td>1.0</td>\n",
       "    </tr>\n",
       "    <tr>\n",
       "      <th>4</th>\n",
       "      <td>-34.600988</td>\n",
       "      <td>-58.433061</td>\n",
       "      <td>Villa Crespo</td>\n",
       "      <td>2.0</td>\n",
       "      <td>1.0</td>\n",
       "      <td>1.0</td>\n",
       "      <td>70.0</td>\n",
       "      <td>70.0</td>\n",
       "      <td>PH</td>\n",
       "      <td>159500.0</td>\n",
       "      <td>0.0</td>\n",
       "      <td>0.0</td>\n",
       "      <td>1.0</td>\n",
       "    </tr>\n",
       "  </tbody>\n",
       "</table>\n",
       "</div>"
      ],
      "text/plain": [
       "         lat        lon            l3  rooms  bedrooms  bathrooms  \\\n",
       "0 -34.624056 -58.412110         Boedo    2.0       1.0        2.0   \n",
       "1 -34.593569 -58.427474       Palermo    2.0       1.0        1.0   \n",
       "2 -34.581294 -58.436754       Palermo    2.0       1.0        1.0   \n",
       "3 -34.593779 -58.441239  Villa Crespo    2.0       1.0        1.0   \n",
       "4 -34.600988 -58.433061  Villa Crespo    2.0       1.0        1.0   \n",
       "\n",
       "   surface_total  surface_covered property_type     price  Casa  Departamento  \\\n",
       "0           70.0             58.0            PH  159000.0   0.0           0.0   \n",
       "1           45.0             45.0            PH  125000.0   0.0           0.0   \n",
       "2           85.0             50.0            PH  295000.0   0.0           0.0   \n",
       "3           56.0             56.0            PH  150000.0   0.0           0.0   \n",
       "4           70.0             70.0            PH  159500.0   0.0           0.0   \n",
       "\n",
       "    PH  \n",
       "0  1.0  \n",
       "1  1.0  \n",
       "2  1.0  \n",
       "3  1.0  \n",
       "4  1.0  "
      ]
     },
     "execution_count": 312,
     "metadata": {},
     "output_type": "execute_result"
    }
   ],
   "source": [
    "from sklearn.preprocessing import OneHotEncoder\n",
    "\n",
    "property_type_one_hot_encoder = OneHotEncoder(sparse=False)\n",
    "property_type_encoded = property_type_one_hot_encoder.fit_transform(dataset.property_type_encoded.to_numpy().reshape(-1, 1))\n",
    "dataset = pd.concat([\n",
    "    dataset.reset_index(drop=True),\n",
    "    pd.DataFrame(property_type_encoded, columns=property_type_label_encoder.classes_)\n",
    "], axis=1)\n",
    "dataset.drop(['property_type_encoded'], axis=1, inplace=True)\n",
    "dataset.head()"
   ]
  },
  {
   "cell_type": "markdown",
   "metadata": {},
   "source": [
    "Procedemos a realizar la particion del dataset.\n",
    "\n",
    "**Nota:** Las columnas l3 y property_type continuaran en el dataset hasta luego del split ya que se usaran para el analisis de residuos."
   ]
  },
  {
   "cell_type": "code",
   "execution_count": 313,
   "metadata": {},
   "outputs": [],
   "source": [
    "from sklearn.model_selection import train_test_split\n",
    "\n",
    "X = dataset.drop(['price'], axis=1)\n",
    "y = dataset.price\n",
    "\n",
    "X_train, X_test, y_train, y_test = train_test_split(X, y, test_size=0.1, random_state=random_state)"
   ]
  },
  {
   "cell_type": "markdown",
   "metadata": {},
   "source": [
    "Guardamos la informacion de `l3` y `property_type` para posterior analisis"
   ]
  },
  {
   "cell_type": "code",
   "execution_count": 314,
   "metadata": {},
   "outputs": [],
   "source": [
    "label_columns = ['l3', 'property_type']\n",
    "\n",
    "X_train_labels = X_train[label_columns].copy()\n",
    "X_test_labels = X_test[label_columns].copy()"
   ]
  },
  {
   "cell_type": "markdown",
   "metadata": {},
   "source": [
    "Eliminamos ahora estas columnas"
   ]
  },
  {
   "cell_type": "code",
   "execution_count": 315,
   "metadata": {},
   "outputs": [],
   "source": [
    "X_train = X_train.drop(label_columns, axis=1).copy()\n",
    "X_test = X_test.drop(label_columns, axis=1).copy()"
   ]
  },
  {
   "cell_type": "code",
   "execution_count": 316,
   "metadata": {},
   "outputs": [
    {
     "data": {
      "text/html": [
       "<div>\n",
       "<style scoped>\n",
       "    .dataframe tbody tr th:only-of-type {\n",
       "        vertical-align: middle;\n",
       "    }\n",
       "\n",
       "    .dataframe tbody tr th {\n",
       "        vertical-align: top;\n",
       "    }\n",
       "\n",
       "    .dataframe thead th {\n",
       "        text-align: right;\n",
       "    }\n",
       "</style>\n",
       "<table border=\"1\" class=\"dataframe\">\n",
       "  <thead>\n",
       "    <tr style=\"text-align: right;\">\n",
       "      <th></th>\n",
       "      <th>lat</th>\n",
       "      <th>lon</th>\n",
       "      <th>rooms</th>\n",
       "      <th>bedrooms</th>\n",
       "      <th>bathrooms</th>\n",
       "      <th>surface_total</th>\n",
       "      <th>surface_covered</th>\n",
       "      <th>Casa</th>\n",
       "      <th>Departamento</th>\n",
       "      <th>PH</th>\n",
       "    </tr>\n",
       "  </thead>\n",
       "  <tbody>\n",
       "    <tr>\n",
       "      <th>46107</th>\n",
       "      <td>-34.584929</td>\n",
       "      <td>-58.411457</td>\n",
       "      <td>2.0</td>\n",
       "      <td>1.0</td>\n",
       "      <td>1.0</td>\n",
       "      <td>38.0</td>\n",
       "      <td>38.0</td>\n",
       "      <td>0.0</td>\n",
       "      <td>1.0</td>\n",
       "      <td>0.0</td>\n",
       "    </tr>\n",
       "    <tr>\n",
       "      <th>21789</th>\n",
       "      <td>-34.630911</td>\n",
       "      <td>-58.460848</td>\n",
       "      <td>4.0</td>\n",
       "      <td>3.0</td>\n",
       "      <td>1.0</td>\n",
       "      <td>74.0</td>\n",
       "      <td>68.0</td>\n",
       "      <td>0.0</td>\n",
       "      <td>1.0</td>\n",
       "      <td>0.0</td>\n",
       "    </tr>\n",
       "    <tr>\n",
       "      <th>39240</th>\n",
       "      <td>-34.549306</td>\n",
       "      <td>-58.477681</td>\n",
       "      <td>2.0</td>\n",
       "      <td>1.0</td>\n",
       "      <td>1.0</td>\n",
       "      <td>34.0</td>\n",
       "      <td>34.0</td>\n",
       "      <td>0.0</td>\n",
       "      <td>1.0</td>\n",
       "      <td>0.0</td>\n",
       "    </tr>\n",
       "    <tr>\n",
       "      <th>41159</th>\n",
       "      <td>-34.608248</td>\n",
       "      <td>-58.421008</td>\n",
       "      <td>2.0</td>\n",
       "      <td>1.0</td>\n",
       "      <td>1.0</td>\n",
       "      <td>52.0</td>\n",
       "      <td>48.0</td>\n",
       "      <td>0.0</td>\n",
       "      <td>1.0</td>\n",
       "      <td>0.0</td>\n",
       "    </tr>\n",
       "    <tr>\n",
       "      <th>68419</th>\n",
       "      <td>-34.599277</td>\n",
       "      <td>-58.381186</td>\n",
       "      <td>6.0</td>\n",
       "      <td>3.0</td>\n",
       "      <td>2.0</td>\n",
       "      <td>118.0</td>\n",
       "      <td>110.0</td>\n",
       "      <td>0.0</td>\n",
       "      <td>1.0</td>\n",
       "      <td>0.0</td>\n",
       "    </tr>\n",
       "  </tbody>\n",
       "</table>\n",
       "</div>"
      ],
      "text/plain": [
       "             lat        lon  rooms  bedrooms  bathrooms  surface_total  \\\n",
       "46107 -34.584929 -58.411457    2.0       1.0        1.0           38.0   \n",
       "21789 -34.630911 -58.460848    4.0       3.0        1.0           74.0   \n",
       "39240 -34.549306 -58.477681    2.0       1.0        1.0           34.0   \n",
       "41159 -34.608248 -58.421008    2.0       1.0        1.0           52.0   \n",
       "68419 -34.599277 -58.381186    6.0       3.0        2.0          118.0   \n",
       "\n",
       "       surface_covered  Casa  Departamento   PH  \n",
       "46107             38.0   0.0           1.0  0.0  \n",
       "21789             68.0   0.0           1.0  0.0  \n",
       "39240             34.0   0.0           1.0  0.0  \n",
       "41159             48.0   0.0           1.0  0.0  \n",
       "68419            110.0   0.0           1.0  0.0  "
      ]
     },
     "execution_count": 316,
     "metadata": {},
     "output_type": "execute_result"
    }
   ],
   "source": [
    "X_train.head()"
   ]
  },
  {
   "cell_type": "code",
   "execution_count": 317,
   "metadata": {},
   "outputs": [
    {
     "data": {
      "text/html": [
       "<div>\n",
       "<style scoped>\n",
       "    .dataframe tbody tr th:only-of-type {\n",
       "        vertical-align: middle;\n",
       "    }\n",
       "\n",
       "    .dataframe tbody tr th {\n",
       "        vertical-align: top;\n",
       "    }\n",
       "\n",
       "    .dataframe thead th {\n",
       "        text-align: right;\n",
       "    }\n",
       "</style>\n",
       "<table border=\"1\" class=\"dataframe\">\n",
       "  <thead>\n",
       "    <tr style=\"text-align: right;\">\n",
       "      <th></th>\n",
       "      <th>lat</th>\n",
       "      <th>lon</th>\n",
       "      <th>rooms</th>\n",
       "      <th>bedrooms</th>\n",
       "      <th>bathrooms</th>\n",
       "      <th>surface_total</th>\n",
       "      <th>surface_covered</th>\n",
       "      <th>Casa</th>\n",
       "      <th>Departamento</th>\n",
       "      <th>PH</th>\n",
       "    </tr>\n",
       "  </thead>\n",
       "  <tbody>\n",
       "    <tr>\n",
       "      <th>13066</th>\n",
       "      <td>-34.586709</td>\n",
       "      <td>-58.400602</td>\n",
       "      <td>1.0</td>\n",
       "      <td>1.0</td>\n",
       "      <td>1.0</td>\n",
       "      <td>38.0</td>\n",
       "      <td>31.0</td>\n",
       "      <td>0.0</td>\n",
       "      <td>1.0</td>\n",
       "      <td>0.0</td>\n",
       "    </tr>\n",
       "    <tr>\n",
       "      <th>4113</th>\n",
       "      <td>-34.562693</td>\n",
       "      <td>-58.465392</td>\n",
       "      <td>3.0</td>\n",
       "      <td>2.0</td>\n",
       "      <td>2.0</td>\n",
       "      <td>63.0</td>\n",
       "      <td>59.0</td>\n",
       "      <td>0.0</td>\n",
       "      <td>1.0</td>\n",
       "      <td>0.0</td>\n",
       "    </tr>\n",
       "    <tr>\n",
       "      <th>32279</th>\n",
       "      <td>-34.611445</td>\n",
       "      <td>-58.420994</td>\n",
       "      <td>1.0</td>\n",
       "      <td>1.0</td>\n",
       "      <td>1.0</td>\n",
       "      <td>28.0</td>\n",
       "      <td>18.0</td>\n",
       "      <td>0.0</td>\n",
       "      <td>1.0</td>\n",
       "      <td>0.0</td>\n",
       "    </tr>\n",
       "    <tr>\n",
       "      <th>21566</th>\n",
       "      <td>-34.587460</td>\n",
       "      <td>-58.386744</td>\n",
       "      <td>5.0</td>\n",
       "      <td>3.0</td>\n",
       "      <td>2.0</td>\n",
       "      <td>131.0</td>\n",
       "      <td>127.0</td>\n",
       "      <td>0.0</td>\n",
       "      <td>1.0</td>\n",
       "      <td>0.0</td>\n",
       "    </tr>\n",
       "    <tr>\n",
       "      <th>12828</th>\n",
       "      <td>-34.558095</td>\n",
       "      <td>-58.449723</td>\n",
       "      <td>2.0</td>\n",
       "      <td>1.0</td>\n",
       "      <td>1.0</td>\n",
       "      <td>30.0</td>\n",
       "      <td>29.0</td>\n",
       "      <td>0.0</td>\n",
       "      <td>1.0</td>\n",
       "      <td>0.0</td>\n",
       "    </tr>\n",
       "  </tbody>\n",
       "</table>\n",
       "</div>"
      ],
      "text/plain": [
       "             lat        lon  rooms  bedrooms  bathrooms  surface_total  \\\n",
       "13066 -34.586709 -58.400602    1.0       1.0        1.0           38.0   \n",
       "4113  -34.562693 -58.465392    3.0       2.0        2.0           63.0   \n",
       "32279 -34.611445 -58.420994    1.0       1.0        1.0           28.0   \n",
       "21566 -34.587460 -58.386744    5.0       3.0        2.0          131.0   \n",
       "12828 -34.558095 -58.449723    2.0       1.0        1.0           30.0   \n",
       "\n",
       "       surface_covered  Casa  Departamento   PH  \n",
       "13066             31.0   0.0           1.0  0.0  \n",
       "4113              59.0   0.0           1.0  0.0  \n",
       "32279             18.0   0.0           1.0  0.0  \n",
       "21566            127.0   0.0           1.0  0.0  \n",
       "12828             29.0   0.0           1.0  0.0  "
      ]
     },
     "execution_count": 317,
     "metadata": {},
     "output_type": "execute_result"
    }
   ],
   "source": [
    "X_test.head()"
   ]
  },
  {
   "cell_type": "markdown",
   "metadata": {},
   "source": [
    "**NOTA:** El conjunto de test se usara unicamente al final, luego de haber seleccionado el modelo para dar un estimado del desempeno real del modelo final."
   ]
  },
  {
   "cell_type": "markdown",
   "metadata": {},
   "source": [
    "### Escalado de datos"
   ]
  },
  {
   "cell_type": "markdown",
   "metadata": {},
   "source": [
    "Para poder aplicar PCA de una forma mas efectiva, se procedera a hacer un escalado de datos."
   ]
  },
  {
   "cell_type": "code",
   "execution_count": 318,
   "metadata": {},
   "outputs": [
    {
     "data": {
      "text/html": [
       "<div>\n",
       "<style scoped>\n",
       "    .dataframe tbody tr th:only-of-type {\n",
       "        vertical-align: middle;\n",
       "    }\n",
       "\n",
       "    .dataframe tbody tr th {\n",
       "        vertical-align: top;\n",
       "    }\n",
       "\n",
       "    .dataframe thead th {\n",
       "        text-align: right;\n",
       "    }\n",
       "</style>\n",
       "<table border=\"1\" class=\"dataframe\">\n",
       "  <thead>\n",
       "    <tr style=\"text-align: right;\">\n",
       "      <th></th>\n",
       "      <th>lat</th>\n",
       "      <th>lon</th>\n",
       "      <th>rooms</th>\n",
       "      <th>bedrooms</th>\n",
       "      <th>bathrooms</th>\n",
       "      <th>surface_total</th>\n",
       "      <th>surface_covered</th>\n",
       "      <th>Casa</th>\n",
       "      <th>Departamento</th>\n",
       "      <th>PH</th>\n",
       "    </tr>\n",
       "  </thead>\n",
       "  <tbody>\n",
       "    <tr>\n",
       "      <th>0</th>\n",
       "      <td>0.589892</td>\n",
       "      <td>0.700646</td>\n",
       "      <td>-0.779278</td>\n",
       "      <td>-0.978726</td>\n",
       "      <td>-0.648777</td>\n",
       "      <td>-0.867363</td>\n",
       "      <td>-0.878734</td>\n",
       "      <td>0.0</td>\n",
       "      <td>1.0</td>\n",
       "      <td>0.0</td>\n",
       "    </tr>\n",
       "    <tr>\n",
       "      <th>1</th>\n",
       "      <td>-1.451549</td>\n",
       "      <td>-0.708788</td>\n",
       "      <td>1.145925</td>\n",
       "      <td>1.326477</td>\n",
       "      <td>-0.648777</td>\n",
       "      <td>-0.127004</td>\n",
       "      <td>-0.027402</td>\n",
       "      <td>0.0</td>\n",
       "      <td>1.0</td>\n",
       "      <td>0.0</td>\n",
       "    </tr>\n",
       "    <tr>\n",
       "      <th>2</th>\n",
       "      <td>2.171396</td>\n",
       "      <td>-1.189132</td>\n",
       "      <td>-0.779278</td>\n",
       "      <td>-0.978726</td>\n",
       "      <td>-0.648777</td>\n",
       "      <td>-0.949625</td>\n",
       "      <td>-0.992244</td>\n",
       "      <td>0.0</td>\n",
       "      <td>1.0</td>\n",
       "      <td>0.0</td>\n",
       "    </tr>\n",
       "    <tr>\n",
       "      <th>3</th>\n",
       "      <td>-0.445400</td>\n",
       "      <td>0.428103</td>\n",
       "      <td>-0.779278</td>\n",
       "      <td>-0.978726</td>\n",
       "      <td>-0.648777</td>\n",
       "      <td>-0.579445</td>\n",
       "      <td>-0.594957</td>\n",
       "      <td>0.0</td>\n",
       "      <td>1.0</td>\n",
       "      <td>0.0</td>\n",
       "    </tr>\n",
       "    <tr>\n",
       "      <th>4</th>\n",
       "      <td>-0.047135</td>\n",
       "      <td>1.564480</td>\n",
       "      <td>3.071128</td>\n",
       "      <td>1.326477</td>\n",
       "      <td>1.014556</td>\n",
       "      <td>0.777879</td>\n",
       "      <td>1.164461</td>\n",
       "      <td>0.0</td>\n",
       "      <td>1.0</td>\n",
       "      <td>0.0</td>\n",
       "    </tr>\n",
       "  </tbody>\n",
       "</table>\n",
       "</div>"
      ],
      "text/plain": [
       "        lat       lon     rooms  bedrooms  bathrooms  surface_total  \\\n",
       "0  0.589892  0.700646 -0.779278 -0.978726  -0.648777      -0.867363   \n",
       "1 -1.451549 -0.708788  1.145925  1.326477  -0.648777      -0.127004   \n",
       "2  2.171396 -1.189132 -0.779278 -0.978726  -0.648777      -0.949625   \n",
       "3 -0.445400  0.428103 -0.779278 -0.978726  -0.648777      -0.579445   \n",
       "4 -0.047135  1.564480  3.071128  1.326477   1.014556       0.777879   \n",
       "\n",
       "   surface_covered  Casa  Departamento   PH  \n",
       "0        -0.878734   0.0           1.0  0.0  \n",
       "1        -0.027402   0.0           1.0  0.0  \n",
       "2        -0.992244   0.0           1.0  0.0  \n",
       "3        -0.594957   0.0           1.0  0.0  \n",
       "4         1.164461   0.0           1.0  0.0  "
      ]
     },
     "execution_count": 318,
     "metadata": {},
     "output_type": "execute_result"
    }
   ],
   "source": [
    "from sklearn.compose import ColumnTransformer\n",
    "from sklearn.preprocessing import StandardScaler\n",
    "\n",
    "ct = ColumnTransformer([\n",
    "        ('scaler', StandardScaler(), ['lat', 'lon', 'rooms', 'bedrooms', 'bathrooms', 'surface_total', 'surface_covered'])\n",
    "    ], remainder='passthrough')\n",
    "\n",
    "X_train_new = pd.DataFrame(ct.fit_transform(X_train), columns=X_train.columns)\n",
    "X_train_new.head()"
   ]
  },
  {
   "cell_type": "markdown",
   "metadata": {},
   "source": [
    "Le aplicamos este mismo escalado al conjunto de test"
   ]
  },
  {
   "cell_type": "code",
   "execution_count": 319,
   "metadata": {},
   "outputs": [
    {
     "data": {
      "text/html": [
       "<div>\n",
       "<style scoped>\n",
       "    .dataframe tbody tr th:only-of-type {\n",
       "        vertical-align: middle;\n",
       "    }\n",
       "\n",
       "    .dataframe tbody tr th {\n",
       "        vertical-align: top;\n",
       "    }\n",
       "\n",
       "    .dataframe thead th {\n",
       "        text-align: right;\n",
       "    }\n",
       "</style>\n",
       "<table border=\"1\" class=\"dataframe\">\n",
       "  <thead>\n",
       "    <tr style=\"text-align: right;\">\n",
       "      <th></th>\n",
       "      <th>lat</th>\n",
       "      <th>lon</th>\n",
       "      <th>rooms</th>\n",
       "      <th>bedrooms</th>\n",
       "      <th>bathrooms</th>\n",
       "      <th>surface_total</th>\n",
       "      <th>surface_covered</th>\n",
       "      <th>Casa</th>\n",
       "      <th>Departamento</th>\n",
       "      <th>PH</th>\n",
       "    </tr>\n",
       "  </thead>\n",
       "  <tbody>\n",
       "    <tr>\n",
       "      <th>0</th>\n",
       "      <td>0.510848</td>\n",
       "      <td>1.010423</td>\n",
       "      <td>-1.741880</td>\n",
       "      <td>-0.978726</td>\n",
       "      <td>-0.648777</td>\n",
       "      <td>-0.867363</td>\n",
       "      <td>-1.077377</td>\n",
       "      <td>0.0</td>\n",
       "      <td>1.0</td>\n",
       "      <td>0.0</td>\n",
       "    </tr>\n",
       "    <tr>\n",
       "      <th>1</th>\n",
       "      <td>1.577070</td>\n",
       "      <td>-0.838465</td>\n",
       "      <td>0.183323</td>\n",
       "      <td>0.173875</td>\n",
       "      <td>1.014556</td>\n",
       "      <td>-0.353225</td>\n",
       "      <td>-0.282802</td>\n",
       "      <td>0.0</td>\n",
       "      <td>1.0</td>\n",
       "      <td>0.0</td>\n",
       "    </tr>\n",
       "    <tr>\n",
       "      <th>2</th>\n",
       "      <td>-0.587321</td>\n",
       "      <td>0.428514</td>\n",
       "      <td>-1.741880</td>\n",
       "      <td>-0.978726</td>\n",
       "      <td>-0.648777</td>\n",
       "      <td>-1.073018</td>\n",
       "      <td>-1.446288</td>\n",
       "      <td>0.0</td>\n",
       "      <td>1.0</td>\n",
       "      <td>0.0</td>\n",
       "    </tr>\n",
       "    <tr>\n",
       "      <th>3</th>\n",
       "      <td>0.477511</td>\n",
       "      <td>1.405861</td>\n",
       "      <td>2.108527</td>\n",
       "      <td>1.326477</td>\n",
       "      <td>1.014556</td>\n",
       "      <td>1.045231</td>\n",
       "      <td>1.646882</td>\n",
       "      <td>0.0</td>\n",
       "      <td>1.0</td>\n",
       "      <td>0.0</td>\n",
       "    </tr>\n",
       "    <tr>\n",
       "      <th>4</th>\n",
       "      <td>1.781190</td>\n",
       "      <td>-0.391317</td>\n",
       "      <td>-0.779278</td>\n",
       "      <td>-0.978726</td>\n",
       "      <td>-0.648777</td>\n",
       "      <td>-1.031887</td>\n",
       "      <td>-1.134133</td>\n",
       "      <td>0.0</td>\n",
       "      <td>1.0</td>\n",
       "      <td>0.0</td>\n",
       "    </tr>\n",
       "  </tbody>\n",
       "</table>\n",
       "</div>"
      ],
      "text/plain": [
       "        lat       lon     rooms  bedrooms  bathrooms  surface_total  \\\n",
       "0  0.510848  1.010423 -1.741880 -0.978726  -0.648777      -0.867363   \n",
       "1  1.577070 -0.838465  0.183323  0.173875   1.014556      -0.353225   \n",
       "2 -0.587321  0.428514 -1.741880 -0.978726  -0.648777      -1.073018   \n",
       "3  0.477511  1.405861  2.108527  1.326477   1.014556       1.045231   \n",
       "4  1.781190 -0.391317 -0.779278 -0.978726  -0.648777      -1.031887   \n",
       "\n",
       "   surface_covered  Casa  Departamento   PH  \n",
       "0        -1.077377   0.0           1.0  0.0  \n",
       "1        -0.282802   0.0           1.0  0.0  \n",
       "2        -1.446288   0.0           1.0  0.0  \n",
       "3         1.646882   0.0           1.0  0.0  \n",
       "4        -1.134133   0.0           1.0  0.0  "
      ]
     },
     "execution_count": 319,
     "metadata": {},
     "output_type": "execute_result"
    }
   ],
   "source": [
    "X_test_new = pd.DataFrame(ct.transform(X_test), columns=X_test.columns)\n",
    "X_test_new.head()"
   ]
  },
  {
   "cell_type": "markdown",
   "metadata": {},
   "source": [
    "### Generacion de nuevas variables\n",
    "\n",
    "Una vez escalados los datos, procedemos a aplicar PCA. Comenzamos generando tantos componentes como campos tiene el dataset."
   ]
  },
  {
   "cell_type": "code",
   "execution_count": 320,
   "metadata": {},
   "outputs": [
    {
     "data": {
      "text/plain": [
       "PCA(n_components=10, random_state=1996)"
      ]
     },
     "execution_count": 320,
     "metadata": {},
     "output_type": "execute_result"
    }
   ],
   "source": [
    "from sklearn.decomposition import PCA\n",
    "\n",
    "pca_total = PCA(n_components=X_train_new.shape[1], random_state=random_state)\n",
    "pca_total.fit(X_train_new)"
   ]
  },
  {
   "cell_type": "markdown",
   "metadata": {},
   "source": [
    "Tomaremos la decision de continuar con la cantidad de componentes que expliquen el 95% de variancia."
   ]
  },
  {
   "cell_type": "code",
   "execution_count": 321,
   "metadata": {},
   "outputs": [
    {
     "name": "stdout",
     "output_type": "stream",
     "text": [
      "Cummulative explained variance:\n",
      " [ 53.49781457  69.15184903  81.84237356  89.17800412  95.17843993\n",
      "  97.55280479  98.84672266  99.70457112 100.         100.        ]\n",
      "\n",
      "Number of components 5 (95.18%)\n"
     ]
    }
   ],
   "source": [
    "# For 95% of explained variance\n",
    "cummulative_explained_variance = np.cumsum(pca_total.explained_variance_ratio_)\n",
    "print(f'Cummulative explained variance:\\n', cummulative_explained_variance * 100)\n",
    "n_components = (cummulative_explained_variance < 0.95).sum() + 1\n",
    "print(f'\\nNumber of components {n_components} ({100 * cummulative_explained_variance[n_components-1]:.2f}%)')"
   ]
  },
  {
   "cell_type": "markdown",
   "metadata": {},
   "source": [
    "Procedemos a realizar la transformacion con la cantidad de componentes adecuada para el criterio tanto para el conjunto de train como el de test."
   ]
  },
  {
   "cell_type": "code",
   "execution_count": 322,
   "metadata": {},
   "outputs": [],
   "source": [
    "pca = PCA(n_components=n_components, random_state=random_state)\n",
    "X_train_new = pca.fit_transform(X_train_new)\n",
    "X_test_new = pca.transform(X_test_new)"
   ]
  },
  {
   "cell_type": "markdown",
   "metadata": {},
   "source": [
    "### Estudio del nuevo desempeno del arbol de decision\n",
    "\n",
    "La siguiente funcion, nos ayudara a resumir el estudio del modelo. Tiene las siguientes caracteristicas:\n",
    "\n",
    "* Hace uso del metodo de cross validation (valor por defecto 5).\n",
    "* La metrica a usar para el desempeno sera el RMSE.\n",
    "* Mide el tiempo de entrenamiento para el modelo y los datos usados."
   ]
  },
  {
   "cell_type": "code",
   "execution_count": 323,
   "metadata": {},
   "outputs": [],
   "source": [
    "from time import time\n",
    "from sklearn.model_selection import cross_val_score\n",
    "from sklearn.tree import DecisionTreeRegressor\n",
    "\n",
    "def study_model(model, data, cv=5, scoring=\"neg_root_mean_squared_error\"):\n",
    "    start = time()\n",
    "\n",
    "    X_train, y_train = data\n",
    "    \n",
    "    model.fit(X_train, y_train)\n",
    "\n",
    "    if cv is not None:\n",
    "        score = -cross_val_score(model, X_train, y_train, cv=cv, scoring=scoring).mean()\n",
    "        print(f'{cv}-fold CV score for {type(model).__name__}: {score:.2f} USD')\n",
    "\n",
    "    end = time()\n",
    "    time_elapsed = end - start\n",
    "    is_time_min = time_elapsed > 60\n",
    "    if is_time_min:\n",
    "        time_elapsed = time_elapsed / 60\n",
    "    print(f\"Time elapsed: {time_elapsed:0.4f} {'min' if is_time_min else 'sg'}\")"
   ]
  },
  {
   "cell_type": "code",
   "execution_count": 324,
   "metadata": {},
   "outputs": [
    {
     "name": "stdout",
     "output_type": "stream",
     "text": [
      "5-fold CV score for DecisionTreeRegressor: 49725.51 USD\n",
      "Time elapsed: 3.0170 sg\n"
     ]
    }
   ],
   "source": [
    "from sklearn.tree import DecisionTreeRegressor\n",
    "\n",
    "tree = DecisionTreeRegressor(max_depth=9, random_state=random_state)\n",
    "study_model(model=tree, data=(X_train_new, y_train))"
   ]
  },
  {
   "cell_type": "markdown",
   "metadata": {},
   "source": [
    "Se puede notar una reduccion del error de casi la mitad comparado con el analisis hecho en la parte 1."
   ]
  },
  {
   "cell_type": "markdown",
   "metadata": {},
   "source": [
    "# Parte B - Modelos Avanzados\n",
    "\n",
    "### Eleccion de modelos\n",
    "\n",
    "Para este estudio se usaran dos modelos: Lasso y RandomForest"
   ]
  },
  {
   "cell_type": "markdown",
   "metadata": {},
   "source": [
    "### Lasso\n",
    "\n",
    "Usaremos este modelo en conjunto con `PolynomialFeatures`. Con los parametros por defecto estudiamos el modelo usando un pipeline."
   ]
  },
  {
   "cell_type": "code",
   "execution_count": 325,
   "metadata": {},
   "outputs": [
    {
     "name": "stdout",
     "output_type": "stream",
     "text": [
      "5-fold CV score for Pipeline: 58158.79 USD\n",
      "Time elapsed: 0.7725 sg\n"
     ]
    }
   ],
   "source": [
    "from sklearn.preprocessing import PolynomialFeatures\n",
    "from sklearn.linear_model import Lasso\n",
    "from sklearn.pipeline import make_pipeline\n",
    "\n",
    "lasso_pipeline = make_pipeline(PolynomialFeatures(), Lasso(random_state=random_state, tol=1))\n",
    "\n",
    "study_model(model=lasso_pipeline, data=(X_train_new, y_train))"
   ]
  },
  {
   "cell_type": "markdown",
   "metadata": {},
   "source": [
    "### Random Forest\n",
    "\n",
    "A continuacion, realizamos un estudio similar con el modelo de Random Forest con los valores por defecto pero usando todos los procesadores."
   ]
  },
  {
   "cell_type": "code",
   "execution_count": 326,
   "metadata": {},
   "outputs": [
    {
     "name": "stdout",
     "output_type": "stream",
     "text": [
      "5-fold CV score for RandomForestRegressor: 32686.34 USD\n",
      "Time elapsed: 51.8543 sg\n"
     ]
    }
   ],
   "source": [
    "from sklearn.ensemble import RandomForestRegressor\n",
    "\n",
    "forest = RandomForestRegressor(random_state=random_state, n_jobs=-1)\n",
    "\n",
    "study_model(model=forest, data=(X_train_new, y_train))"
   ]
  },
  {
   "cell_type": "markdown",
   "metadata": {},
   "source": [
    "Revisamos el bosque en busqueda de la profundidad promedio de los arboles. Podemos usar este valor como referencia para el paso de optimizacion de hiperparametros."
   ]
  },
  {
   "cell_type": "code",
   "execution_count": 327,
   "metadata": {},
   "outputs": [
    {
     "name": "stdout",
     "output_type": "stream",
     "text": [
      "Trees depth: 38\n"
     ]
    }
   ],
   "source": [
    "trees_depths = map(lambda tree: tree.get_depth(), forest.estimators_)\n",
    "print(f'Trees depth: {int(np.round(sum(trees_depths)/len(forest.estimators_)))}')"
   ]
  },
  {
   "cell_type": "markdown",
   "metadata": {},
   "source": [
    "### Optimizacion de hiperparametros\n",
    "\n",
    "La funcion `hyperparameter_optimization` nos ayudara a realizar la tarea en conjunto de entrenamiento y optimizacion de hiperparametros."
   ]
  },
  {
   "cell_type": "code",
   "execution_count": 329,
   "metadata": {},
   "outputs": [],
   "source": [
    "from sklearn.model_selection import GridSearchCV, RandomizedSearchCV\n",
    "from scipy import stats\n",
    "\n",
    "def hyperparameter_optimization(model, params, data, strategy='random', n_iter=10, random_state=random_state, cv=5, scoring='neg_root_mean_squared_error'):\n",
    "    search = None\n",
    "    if strategy == 'grid':\n",
    "        search = GridSearchCV(model, param_grid=params, cv=cv, scoring=scoring, n_jobs=-1)\n",
    "    else:\n",
    "        search = RandomizedSearchCV(model, param_distributions=params, cv=cv, scoring=scoring, n_jobs=-1, n_iter=n_iter, random_state=random_state)\n",
    "    study_model(search, data, cv=None, scoring=scoring)\n",
    "    print(f\"Iterations: {n_iter}\")\n",
    "    print(f\"Search strategy: {strategy}\")\n",
    "    print(f\"Best params: {search.best_params_}\")\n",
    "    print(f\"Best score ({cv}-fold CV): {-search.best_score_:0.2f} USD\")\n",
    "    return search"
   ]
  },
  {
   "cell_type": "markdown",
   "metadata": {},
   "source": [
    "### Lasso"
   ]
  },
  {
   "cell_type": "code",
   "execution_count": 330,
   "metadata": {},
   "outputs": [
    {
     "name": "stdout",
     "output_type": "stream",
     "text": [
      "Time elapsed: 19.6847 sg\n",
      "Iterations: 20\n",
      "Search strategy: random\n",
      "Best params: {'lasso__alpha': 8, 'polynomialfeatures__degree': 7, 'polynomialfeatures__include_bias': True, 'polynomialfeatures__interaction_only': False}\n",
      "Best score (5-fold CV): 53775.41 USD\n"
     ]
    }
   ],
   "source": [
    "param_grid = {\n",
    "    'polynomialfeatures__degree': stats.randint(low=1,high=8),\n",
    "    'polynomialfeatures__include_bias': [True, False],\n",
    "    'polynomialfeatures__interaction_only': [True, False],\n",
    "    'lasso__alpha': stats.randint(low=1,high=20)\n",
    "}\n",
    "lasso_search = hyperparameter_optimization(model=lasso_pipeline, params=param_grid, data=(X_train_new, y_train), n_iter=20)"
   ]
  },
  {
   "cell_type": "markdown",
   "metadata": {},
   "source": [
    "### Random Forest"
   ]
  },
  {
   "cell_type": "code",
   "execution_count": 226,
   "metadata": {},
   "outputs": [
    {
     "name": "stdout",
     "output_type": "stream",
     "text": [
      "Time elapsed: 12.2309 min\n",
      "Iterations: 20\n",
      "Search strategy: random\n",
      "Best params: {'max_depth': 49, 'max_features': 'log2', 'n_estimators': 169}\n",
      "Best score (5-fold CV): 32178.08 USD\n"
     ]
    }
   ],
   "source": [
    "param_distributions = {\n",
    "    'n_estimators': stats.randint(low=100,high=200),\n",
    "    'max_depth': stats.randint(low=25,high=50),\n",
    "    'max_features': ['auto', 'sqrt', 'log2']\n",
    "}\n",
    "forest_search = hyperparameter_optimization(model=forest, params=param_distributions, data=(X_train_new, y_train), n_iter=20)"
   ]
  },
  {
   "cell_type": "markdown",
   "metadata": {},
   "source": [
    "### Comparacion de modelos\n",
    "\n",
    "Comparando los mejores scores de ambos modelos, el que resulta el ganador es Random Forest. Su error es casi el 60% del error de Lasso.\n",
    "Procedemos ahora a evaluar este modelo con los datos de test para obtener el estimado del error en datos desconocidos."
   ]
  },
  {
   "cell_type": "code",
   "execution_count": 333,
   "metadata": {},
   "outputs": [],
   "source": [
    "from sklearn.metrics import mean_squared_error\n",
    "\n",
    "y_test_pred = forest_search.predict(X_test_new)\n",
    "error_test = np.sqrt(mean_squared_error(y_test, y_test_pred))\n",
    "error_train = -forest_search.best_score_\n",
    "print(f'RMSE en test: {error_test:.2f} USD ({100 * (error_train - error_test) / error_train:.2f}% de diferencia de train)')"
   ]
  },
  {
   "cell_type": "markdown",
   "metadata": {},
   "source": [
    "Se puede observar que el error obtenido en test es muy semejante al resultado del proceso de train con cross validation. Asi podemos pensar que el modelo se comportara de la forma esperada con datos nuevos."
   ]
  },
  {
   "cell_type": "markdown",
   "metadata": {},
   "source": [
    "# Parte C - Interpretacion de modelos\n",
    "\n",
    "### Interpretacion de predictores"
   ]
  },
  {
   "cell_type": "code",
   "execution_count": null,
   "metadata": {},
   "outputs": [],
   "source": []
  },
  {
   "cell_type": "markdown",
   "metadata": {},
   "source": [
    "### Interpretacion de errores"
   ]
  },
  {
   "cell_type": "code",
   "execution_count": 334,
   "metadata": {},
   "outputs": [
    {
     "data": {
      "image/png": "[encoded data removed]",
      "text/plain": [
       "<Figure size 1080x360 with 1 Axes>"
      ]
     },
     "metadata": {},
     "output_type": "display_data"
    }
   ],
   "source": [
    "residuals = y_test - y_test_pred\n",
    "plt.figure(figsize=(15,5))\n",
    "sns.scatterplot(x=y_test_pred, y=residuals, hue=X_test_labels.l3, legend=False)\n",
    "plt.show()"
   ]
  },
  {
   "cell_type": "code",
   "execution_count": 335,
   "metadata": {},
   "outputs": [
    {
     "data": {
      "image/png": "[encoded data removed]",
      "text/plain": [
       "<Figure size 1080x360 with 1 Axes>"
      ]
     },
     "metadata": {},
     "output_type": "display_data"
    }
   ],
   "source": [
    "residuals = y_test - y_test_pred\n",
    "plt.figure(figsize=(15,5))\n",
    "sns.scatterplot(x=y_test_pred, y=residuals, hue=X_test_labels.property_type)\n",
    "plt.show()"
   ]
  },
  {
   "cell_type": "code",
   "execution_count": 338,
   "metadata": {},
   "outputs": [
    {
     "data": {
      "text/html": [
       "<div>\n",
       "<style scoped>\n",
       "    .dataframe tbody tr th:only-of-type {\n",
       "        vertical-align: middle;\n",
       "    }\n",
       "\n",
       "    .dataframe tbody tr th {\n",
       "        vertical-align: top;\n",
       "    }\n",
       "\n",
       "    .dataframe thead th {\n",
       "        text-align: right;\n",
       "    }\n",
       "</style>\n",
       "<table border=\"1\" class=\"dataframe\">\n",
       "  <thead>\n",
       "    <tr style=\"text-align: right;\">\n",
       "      <th></th>\n",
       "      <th>lat</th>\n",
       "      <th>lon</th>\n",
       "      <th>l3</th>\n",
       "      <th>rooms</th>\n",
       "      <th>bedrooms</th>\n",
       "      <th>bathrooms</th>\n",
       "      <th>surface_total</th>\n",
       "      <th>surface_covered</th>\n",
       "      <th>property_type</th>\n",
       "      <th>price</th>\n",
       "      <th>Casa</th>\n",
       "      <th>Departamento</th>\n",
       "      <th>PH</th>\n",
       "    </tr>\n",
       "  </thead>\n",
       "  <tbody>\n",
       "    <tr>\n",
       "      <th>11153</th>\n",
       "      <td>-34.554294</td>\n",
       "      <td>-58.438676</td>\n",
       "      <td>Belgrano</td>\n",
       "      <td>2.0</td>\n",
       "      <td>1.0</td>\n",
       "      <td>2.0</td>\n",
       "      <td>145.0</td>\n",
       "      <td>131.0</td>\n",
       "      <td>Departamento</td>\n",
       "      <td>690000.0</td>\n",
       "      <td>0.0</td>\n",
       "      <td>1.0</td>\n",
       "      <td>0.0</td>\n",
       "    </tr>\n",
       "    <tr>\n",
       "      <th>33750</th>\n",
       "      <td>-34.623118</td>\n",
       "      <td>-58.433098</td>\n",
       "      <td>Caballito</td>\n",
       "      <td>4.0</td>\n",
       "      <td>3.0</td>\n",
       "      <td>2.0</td>\n",
       "      <td>160.0</td>\n",
       "      <td>130.0</td>\n",
       "      <td>Departamento</td>\n",
       "      <td>650000.0</td>\n",
       "      <td>0.0</td>\n",
       "      <td>1.0</td>\n",
       "      <td>0.0</td>\n",
       "    </tr>\n",
       "    <tr>\n",
       "      <th>37898</th>\n",
       "      <td>-34.619548</td>\n",
       "      <td>-58.428904</td>\n",
       "      <td>Caballito</td>\n",
       "      <td>5.0</td>\n",
       "      <td>3.0</td>\n",
       "      <td>2.0</td>\n",
       "      <td>117.0</td>\n",
       "      <td>110.0</td>\n",
       "      <td>Departamento</td>\n",
       "      <td>445000.0</td>\n",
       "      <td>0.0</td>\n",
       "      <td>1.0</td>\n",
       "      <td>0.0</td>\n",
       "    </tr>\n",
       "    <tr>\n",
       "      <th>52010</th>\n",
       "      <td>-34.573623</td>\n",
       "      <td>-58.421204</td>\n",
       "      <td>Palermo</td>\n",
       "      <td>3.0</td>\n",
       "      <td>2.0</td>\n",
       "      <td>2.0</td>\n",
       "      <td>82.0</td>\n",
       "      <td>70.0</td>\n",
       "      <td>Departamento</td>\n",
       "      <td>529000.0</td>\n",
       "      <td>0.0</td>\n",
       "      <td>1.0</td>\n",
       "      <td>0.0</td>\n",
       "    </tr>\n",
       "    <tr>\n",
       "      <th>43373</th>\n",
       "      <td>-34.581250</td>\n",
       "      <td>-58.406333</td>\n",
       "      <td>Barrio Norte</td>\n",
       "      <td>2.0</td>\n",
       "      <td>1.0</td>\n",
       "      <td>1.0</td>\n",
       "      <td>70.0</td>\n",
       "      <td>60.0</td>\n",
       "      <td>Departamento</td>\n",
       "      <td>530000.0</td>\n",
       "      <td>0.0</td>\n",
       "      <td>1.0</td>\n",
       "      <td>0.0</td>\n",
       "    </tr>\n",
       "    <tr>\n",
       "      <th>25984</th>\n",
       "      <td>-34.591492</td>\n",
       "      <td>-58.388038</td>\n",
       "      <td>Recoleta</td>\n",
       "      <td>4.0</td>\n",
       "      <td>3.0</td>\n",
       "      <td>3.0</td>\n",
       "      <td>168.0</td>\n",
       "      <td>147.0</td>\n",
       "      <td>Departamento</td>\n",
       "      <td>335000.0</td>\n",
       "      <td>0.0</td>\n",
       "      <td>1.0</td>\n",
       "      <td>0.0</td>\n",
       "    </tr>\n",
       "    <tr>\n",
       "      <th>46439</th>\n",
       "      <td>-34.618980</td>\n",
       "      <td>-58.445253</td>\n",
       "      <td>Caballito</td>\n",
       "      <td>4.0</td>\n",
       "      <td>3.0</td>\n",
       "      <td>2.0</td>\n",
       "      <td>128.0</td>\n",
       "      <td>120.0</td>\n",
       "      <td>Departamento</td>\n",
       "      <td>613567.0</td>\n",
       "      <td>0.0</td>\n",
       "      <td>1.0</td>\n",
       "      <td>0.0</td>\n",
       "    </tr>\n",
       "    <tr>\n",
       "      <th>21605</th>\n",
       "      <td>-34.558653</td>\n",
       "      <td>-58.446043</td>\n",
       "      <td>Belgrano</td>\n",
       "      <td>4.0</td>\n",
       "      <td>3.0</td>\n",
       "      <td>3.0</td>\n",
       "      <td>156.0</td>\n",
       "      <td>148.0</td>\n",
       "      <td>Departamento</td>\n",
       "      <td>190000.0</td>\n",
       "      <td>0.0</td>\n",
       "      <td>1.0</td>\n",
       "      <td>0.0</td>\n",
       "    </tr>\n",
       "    <tr>\n",
       "      <th>5581</th>\n",
       "      <td>-34.605458</td>\n",
       "      <td>-58.411002</td>\n",
       "      <td>Balvanera</td>\n",
       "      <td>5.0</td>\n",
       "      <td>3.0</td>\n",
       "      <td>3.0</td>\n",
       "      <td>200.0</td>\n",
       "      <td>186.0</td>\n",
       "      <td>Departamento</td>\n",
       "      <td>220000.0</td>\n",
       "      <td>0.0</td>\n",
       "      <td>1.0</td>\n",
       "      <td>0.0</td>\n",
       "    </tr>\n",
       "  </tbody>\n",
       "</table>\n",
       "</div>"
      ],
      "text/plain": [
       "             lat        lon            l3  rooms  bedrooms  bathrooms  \\\n",
       "11153 -34.554294 -58.438676      Belgrano    2.0       1.0        2.0   \n",
       "33750 -34.623118 -58.433098     Caballito    4.0       3.0        2.0   \n",
       "37898 -34.619548 -58.428904     Caballito    5.0       3.0        2.0   \n",
       "52010 -34.573623 -58.421204       Palermo    3.0       2.0        2.0   \n",
       "43373 -34.581250 -58.406333  Barrio Norte    2.0       1.0        1.0   \n",
       "25984 -34.591492 -58.388038      Recoleta    4.0       3.0        3.0   \n",
       "46439 -34.618980 -58.445253     Caballito    4.0       3.0        2.0   \n",
       "21605 -34.558653 -58.446043      Belgrano    4.0       3.0        3.0   \n",
       "5581  -34.605458 -58.411002     Balvanera    5.0       3.0        3.0   \n",
       "\n",
       "       surface_total  surface_covered property_type     price  Casa  \\\n",
       "11153          145.0            131.0  Departamento  690000.0   0.0   \n",
       "33750          160.0            130.0  Departamento  650000.0   0.0   \n",
       "37898          117.0            110.0  Departamento  445000.0   0.0   \n",
       "52010           82.0             70.0  Departamento  529000.0   0.0   \n",
       "43373           70.0             60.0  Departamento  530000.0   0.0   \n",
       "25984          168.0            147.0  Departamento  335000.0   0.0   \n",
       "46439          128.0            120.0  Departamento  613567.0   0.0   \n",
       "21605          156.0            148.0  Departamento  190000.0   0.0   \n",
       "5581           200.0            186.0  Departamento  220000.0   0.0   \n",
       "\n",
       "       Departamento   PH  \n",
       "11153           1.0  0.0  \n",
       "33750           1.0  0.0  \n",
       "37898           1.0  0.0  \n",
       "52010           1.0  0.0  \n",
       "43373           1.0  0.0  \n",
       "25984           1.0  0.0  \n",
       "46439           1.0  0.0  \n",
       "21605           1.0  0.0  \n",
       "5581            1.0  0.0  "
      ]
     },
     "execution_count": 338,
     "metadata": {},
     "output_type": "execute_result"
    }
   ],
   "source": [
    "invalid_indexes = X_test[(np.abs(residuals) > 200000)].index\n",
    "dataset.iloc[invalid_indexes]"
   ]
  },
  {
   "cell_type": "markdown",
   "metadata": {},
   "source": []
  }
 ],
 "metadata": {
  "colab": {
   "collapsed_sections": [],
   "name": "DS_Proyecto_01.ipynb",
   "provenance": []
  },
  "kernelspec": {
   "display_name": "Python 3",
   "language": "python",
   "name": "python3"
  },
  "language_info": {
   "codemirror_mode": {
    "name": "ipython",
    "version": 3
   },
   "file_extension": ".py",
   "mimetype": "text/x-python",
   "name": "python",
   "nbconvert_exporter": "python",
   "pygments_lexer": "ipython3",
   "version": "3.7.8"
  }
 },
 "nbformat": 4,
 "nbformat_minor": 4
}
